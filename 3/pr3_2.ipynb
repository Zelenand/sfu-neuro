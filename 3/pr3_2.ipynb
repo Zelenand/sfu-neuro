{
 "cells": [
  {
   "cell_type": "markdown",
   "metadata": {
    "id": "3AbTeDP5Tbou"
   },
   "source": [
    "# Практическая работа №3\n",
    "## Цель:\n",
    "изучение архитектур сверточных нейронных сетей для решения задачи сегментации; создание и исследование моделей сверточных нейронных сетей для задачи сегментации.\n",
    "\n",
    "## Задание:\n",
    "построить нейронную сеть для выделение родинок на фотографии. Необходимо взять датасет из файла PH2 Dataset images.zip. Необходимо взять файлы из папок \"*._Dermoscopic_Image\" и маски из папок \"*_lesion\".\n",
    "\n",
    "Шаги для выполнения практической работы:\n",
    "Разбить выборку на тренировочную, валидационную и тестирующую выборку в случайном порядке.\n",
    "Выбрать три U-net-подобные архитектуры нейронных сетей.\n",
    "Обучить ИНС. Если сеть начала переобучаться, то или упростить модель, или применить регуляризацию, или использовать dropout, или делать аугментацию, или использовать раннюю остановку. Переобучение можно заметить по потерям на валидационном множестве.\n",
    "Запустить модели на тестирующей выборке и посчитать их IoU и Dice."
   ]
  },
  {
   "cell_type": "code",
   "execution_count": 2,
   "metadata": {
    "id": "DJiSRaM3Tbo1"
   },
   "outputs": [
    {
     "name": "stderr",
     "output_type": "stream",
     "text": [
      "C:\\Users\\yormu\\AppData\\Local\\Temp\\ipykernel_15028\\2689955696.py:8: DeprecationWarning: \n",
      "Pyarrow will become a required dependency of pandas in the next major release of pandas (pandas 3.0),\n",
      "(to allow more performant data types, such as the Arrow string type, and better interoperability with other libraries)\n",
      "but was not found to be installed on your system.\n",
      "If this would cause problems for you,\n",
      "please provide us feedback at https://github.com/pandas-dev/pandas/issues/54466\n",
      "        \n",
      "  import pandas as pd\n"
     ]
    }
   ],
   "source": [
    "from skimage.io import imread\n",
    "from skimage.transform import resize\n",
    "import os\n",
    "import numpy as np\n",
    "import torch\n",
    "import torch.nn as nn\n",
    "import torch.optim as optim\n",
    "import pandas as pd\n",
    "from matplotlib import rcParams\n",
    "from matplotlib import pyplot as plt\n",
    "rcParams['figure.figsize'] = (15,4)"
   ]
  },
  {
   "cell_type": "code",
   "execution_count": 1,
   "outputs": [],
   "source": [
    "images = []\n",
    "masks = []\n",
    "\n",
    "root = \"PH2 Dataset\"\n",
    "\n",
    "for root, dirs, files in os.walk(\"PH2 Dataset\"):\n",
    "    if root.endswith('_Dermoscopic_Image'):\n",
    "        images.append(imread(os.path.join(root, files[0])))\n",
    "    if root.endswith('_lesion'):\n",
    "        masks.append(imread(os.path.join(root, files[0])))"
   ],
   "metadata": {
    "collapsed": false
   }
  },
  {
   "cell_type": "code",
   "execution_count": 2,
   "metadata": {
    "id": "ODC0aMJBTbpH"
   },
   "outputs": [],
   "source": [
    "size = (256, 256)\n",
    "X = [resize(x, size, mode='constant', anti_aliasing=True,) for x in images]\n",
    "Y = [resize(y, size, mode='constant', anti_aliasing=False) > 0.5 for y in masks]\n",
    "X = np.array(X, np.float32)\n",
    "Y = np.array(Y, np.float32)"
   ]
  },
  {
   "cell_type": "code",
   "execution_count": 3,
   "metadata": {
    "colab": {
     "base_uri": "https://localhost:8080/"
    },
    "id": "8m5zleU8TbpO",
    "outputId": "2d49e590-434b-4c24-c749-e2366cc746ee"
   },
   "outputs": [
    {
     "name": "stdout",
     "output_type": "stream",
     "text": [
      "Loaded 200 images\n"
     ]
    }
   ],
   "source": [
    "print(f'Loaded {len(X)} images')"
   ]
  },
  {
   "cell_type": "code",
   "execution_count": 5,
   "metadata": {
    "id": "EHYLt5eqTbpp"
   },
   "outputs": [],
   "source": [
    "from torch.utils.data import DataLoader\n",
    "\n",
    "def create_dataloader(X, Y, batch_size):\n",
    "    ix = np.random.choice(len(X), len(X), False)\n",
    "    tr, val, ts = np.split(ix, [100, 150])\n",
    "    batch_size = batch_size\n",
    "    data_train = DataLoader(list(zip(np.rollaxis(X[tr], 3, 1), Y[tr, np.newaxis])),\n",
    "                         batch_size=batch_size, shuffle=True)\n",
    "    data_val = DataLoader(list(zip(np.rollaxis(X[val], 3, 1), Y[val, np.newaxis])),\n",
    "                          batch_size=batch_size, shuffle=True)\n",
    "    data_test = DataLoader(list(zip(np.rollaxis(X[ts], 3, 1), Y[ts, np.newaxis])),\n",
    "                         batch_size=batch_size, shuffle=True)\n",
    "    \n",
    "    return data_train, data_val, data_test"
   ]
  },
  {
   "cell_type": "code",
   "execution_count": 7,
   "metadata": {
    "id": "pkr8g4ghFxox"
   },
   "outputs": [],
   "source": [
    "def iou_pytorch(outputs: torch.Tensor, labels: torch.Tensor):\n",
    "    outputs = outputs.squeeze(1).byte()\n",
    "    labels = labels.squeeze(1).byte()\n",
    "    SMOOTH = 1e-8\n",
    "    intersection = (outputs & labels).float().sum((1, 2))\n",
    "    union = (outputs | labels).float().sum((1, 2))\n",
    "    iou = (intersection + SMOOTH) / (union + SMOOTH)\n",
    "    return iou"
   ]
  },
  {
   "cell_type": "code",
   "execution_count": 9,
   "metadata": {
    "id": "dpCi38-QTbrz"
   },
   "outputs": [],
   "source": [
    "def dice_loss(y_pred, y_real):\n",
    "    y_pred = torch.clip(y_pred, 1e-7, 1 - 1e-7)\n",
    "    y_real = y_real.view(-1)\n",
    "    y_pred = y_pred.view(-1)\n",
    "    num = (y_real * y_pred).sum()\n",
    "    den = y_real.sum() + y_pred.sum()\n",
    "    res = 1 - 2 * (num) / (den)\n",
    "    \n",
    "    return res"
   ]
  },
  {
   "cell_type": "code",
   "execution_count": 10,
   "outputs": [],
   "source": [
    "def train(model, opt, loss_fn, epochs, data_train, data_val):\n",
    "    train_loss = []\n",
    "    eval_loss = []\n",
    "    iou_scores = []\n",
    "\n",
    "    for epoch in range(epochs):\n",
    "        print('* Epoch %d/%d' % (epoch+1, epochs))\n",
    "\n",
    "        avg_loss = 0\n",
    "        model.train()\n",
    "        for X_batch, Y_batch in data_train:\n",
    "            opt.zero_grad()\n",
    "            Y_pred = model.forward(X_batch)\n",
    "            loss = loss_fn(Y_pred, Y_batch)\n",
    "            loss.backward()\n",
    "            opt.step()\n",
    "            avg_loss += loss.detach().cpu() / len(data_train)\n",
    "        train_loss.append(avg_loss.item())\n",
    "        model.eval()\n",
    "        avg_val_loss = 0\n",
    "        iou_score = 0\n",
    "        with torch.no_grad():\n",
    "            for X_val, Y_val in data_val:\n",
    "                Y_pred = model(X_val)\n",
    "                Y_pred = torch.sigmoid(Y_pred)\n",
    "                Y_pred[Y_pred > 0.5] = 1\n",
    "                loss = loss_fn(Y_pred, Y_val)\n",
    "                avg_val_loss += loss.detach().cpu() / len(data_val)\n",
    "                iou_score += iou_pytorch(Y_pred, Y_val).mean().detach().cpu() / len(data_val)\n",
    "            eval_loss.append(avg_val_loss.item())\n",
    "            iou_scores.append(iou_score.item())\n",
    "\n",
    "    return train_loss, eval_loss, iou_scores"
   ],
   "metadata": {
    "collapsed": false
   }
  },
  {
   "cell_type": "code",
   "execution_count": 11,
   "outputs": [],
   "source": [
    "def score_model(model, metric, data):\n",
    "\n",
    "    with torch.no_grad():\n",
    "        model.eval()\n",
    "        scores = 0\n",
    "\n",
    "        for X_batch, Y_label in data:\n",
    "            Y_pred = model(X_batch)\n",
    "            Y_pred = torch.sigmoid(Y_pred)\n",
    "            Y_pred[Y_pred > 0.5] = 1\n",
    "            scores += (metric(Y_pred, Y_label).mean().item())\n",
    "\n",
    "    return scores / len(data)"
   ],
   "metadata": {
    "collapsed": false
   }
  },
  {
   "cell_type": "code",
   "execution_count": 13,
   "metadata": {
    "id": "ZLKGrI4YTbs9"
   },
   "outputs": [],
   "source": [
    "class UNet(nn.Module):\n",
    "    def __init__(self):\n",
    "        super().__init__()\n",
    "        self.enc_conv0 = nn.Sequential(\n",
    "            nn.Conv2d(in_channels=3, out_channels=64, kernel_size=3, padding=1),\n",
    "            nn.ReLU(inplace=True),\n",
    "            nn.BatchNorm2d(64),\n",
    "            nn.Conv2d(in_channels=64, out_channels=128, kernel_size=3, padding=1),\n",
    "            nn.ReLU(inplace=True),\n",
    "            nn.BatchNorm2d(128),\n",
    "        ) \n",
    "        self.pool0 = nn.MaxPool2d(kernel_size=2)\n",
    "        \n",
    "        self.enc_conv1 = nn.Sequential(\n",
    "            nn.Conv2d(in_channels=128, out_channels=128, kernel_size=3, padding=1),\n",
    "            nn.ReLU(inplace=True),\n",
    "            nn.BatchNorm2d(128),\n",
    "            nn.Conv2d(in_channels=128, out_channels=256, kernel_size=3, padding=1),\n",
    "            nn.ReLU(inplace=True),\n",
    "            nn.BatchNorm2d(256),\n",
    "        )\n",
    "        self.pool1 = nn.MaxPool2d(kernel_size=2)\n",
    "        \n",
    "        self.enc_conv2 = nn.Sequential(\n",
    "            nn.Conv2d(in_channels=256, out_channels=256, kernel_size=3, padding=1),\n",
    "            nn.ReLU(inplace=True),\n",
    "            nn.BatchNorm2d(256),\n",
    "            nn.Conv2d(in_channels=256, out_channels=512, kernel_size=3, padding=1),\n",
    "            nn.ReLU(inplace=True),\n",
    "            nn.BatchNorm2d(512),\n",
    "        )\n",
    "        self.pool2 = nn.MaxPool2d(kernel_size=2)\n",
    "        \n",
    "        self.enc_conv3 = nn.Sequential(\n",
    "            nn.Conv2d(in_channels=512, out_channels=512, kernel_size=3, padding=1),\n",
    "            nn.ReLU(inplace=True),\n",
    "            nn.BatchNorm2d(512),\n",
    "            nn.Conv2d(in_channels=512, out_channels=1024, kernel_size=3, padding=1),\n",
    "            nn.ReLU(inplace=True),\n",
    "            nn.BatchNorm2d(1024),\n",
    "        )\n",
    "        self.pool3 = nn.MaxPool2d(kernel_size=2)\n",
    "\n",
    "\n",
    "        self.bottleneck_conv = nn.Sequential(\n",
    "            nn.Conv2d(in_channels=1024, out_channels=1024, kernel_size=1),\n",
    "            nn.ReLU(inplace=True),\n",
    "            nn.BatchNorm2d(1024),\n",
    "            nn.Conv2d(in_channels=1024, out_channels=1024, kernel_size=1),\n",
    "            nn.ReLU(inplace=True),\n",
    "            nn.BatchNorm2d(1024),\n",
    "        )\n",
    "\n",
    "\n",
    "        self.upsample0 = nn.Upsample(scale_factor=2)\n",
    "        self.dec_conv0 = nn.Sequential(\n",
    "            nn.Conv2d(in_channels=1024, out_channels=512, kernel_size=3, padding=1),\n",
    "            nn.ReLU(inplace=True),\n",
    "            nn.BatchNorm2d(512),\n",
    "            nn.Conv2d(in_channels=512, out_channels=512, kernel_size=3, padding=1),\n",
    "            nn.ReLU(inplace=True),\n",
    "            nn.BatchNorm2d(512),\n",
    "        )\n",
    "        \n",
    "        self.upsample1 = nn.Upsample(scale_factor=2)\n",
    "        self.dec_conv1 = nn.Sequential(\n",
    "            nn.ConvTranspose2d(in_channels=512, out_channels=256, kernel_size=3, padding=1),\n",
    "            nn.ReLU(inplace=True),\n",
    "            nn.BatchNorm2d(256),\n",
    "            nn.ConvTranspose2d(in_channels=256, out_channels=256, kernel_size=3, padding=1),\n",
    "            nn.ReLU(inplace=True),\n",
    "            nn.BatchNorm2d(256),\n",
    "        )\n",
    "        \n",
    "        self.upsample2 = nn.Upsample(scale_factor=2)\n",
    "        self.dec_conv2 = nn.Sequential(\n",
    "            nn.ConvTranspose2d(in_channels=256, out_channels=128, kernel_size=3, padding=1),\n",
    "            nn.ReLU(inplace=True),\n",
    "            nn.BatchNorm2d(128),\n",
    "            nn.ConvTranspose2d(in_channels=128, out_channels=128, kernel_size=3, padding=1),\n",
    "            nn.ReLU(inplace=True),\n",
    "            nn.BatchNorm2d(128),\n",
    "        )\n",
    "        \n",
    "        self.upsample3 = nn.Upsample(scale_factor=2)\n",
    "        self.dec_conv3 = nn.Sequential(\n",
    "            nn.ConvTranspose2d(in_channels=128, out_channels=64, kernel_size=3, padding=1),\n",
    "            nn.ReLU(inplace=True),\n",
    "            nn.BatchNorm2d(64),\n",
    "            nn.ConvTranspose2d(in_channels=64, out_channels=64, kernel_size=3, padding=1),\n",
    "            nn.ReLU(inplace=True),\n",
    "            nn.BatchNorm2d(64),\n",
    "            nn.ConvTranspose2d(in_channels=64, out_channels=1, kernel_size=1),\n",
    "        )\n",
    "\n",
    "    def forward(self, x):\n",
    "        enc0 = self.enc_conv0(x)\n",
    "        pool0 = self.pool0(enc0)\n",
    "        enc1 = self.enc_conv1(pool0)\n",
    "        pool1 = self.pool1(enc1)\n",
    "        enc2 = self.enc_conv2(pool1)\n",
    "        pool2 = self.pool2(enc2)\n",
    "        enc3 = self.enc_conv3(pool2)\n",
    "        pool3 = self.pool3(enc3)\n",
    "\n",
    "        btnck = self.bottleneck_conv(pool3)\n",
    "\n",
    "        upsamp0 = self.upsample0(btnck)\n",
    "        dec0 = self.dec_conv0(upsamp0 + enc3)\n",
    "        upsamp1 = self.upsample1(dec0)\n",
    "        dec1 = self.dec_conv1(upsamp1 + enc2)\n",
    "        upsamp2 = self.upsample2(dec1)\n",
    "        dec2 = self.dec_conv2(upsamp2 + enc1)\n",
    "        upsamp3 = self.upsample3(dec2)\n",
    "        dec3 = self.dec_conv3(upsamp3 + enc0)\n",
    "\n",
    "        return dec3"
   ]
  },
  {
   "cell_type": "code",
   "execution_count": 14,
   "metadata": {
    "colab": {
     "base_uri": "https://localhost:8080/",
     "height": 277
    },
    "id": "R5pOKuklTCks",
    "outputId": "17f59b84-8699-44ac-d9cc-474f970ed789"
   },
   "outputs": [
    {
     "name": "stdout",
     "output_type": "stream",
     "text": [
      "* Epoch 1/20\n",
      "* Epoch 2/20\n",
      "* Epoch 3/20\n",
      "* Epoch 4/20\n",
      "* Epoch 5/20\n",
      "* Epoch 6/20\n",
      "* Epoch 7/20\n",
      "* Epoch 8/20\n",
      "* Epoch 9/20\n",
      "* Epoch 10/20\n",
      "* Epoch 11/20\n",
      "* Epoch 12/20\n",
      "* Epoch 13/20\n",
      "* Epoch 14/20\n",
      "* Epoch 15/20\n",
      "* Epoch 16/20\n",
      "* Epoch 17/20\n",
      "* Epoch 18/20\n",
      "* Epoch 19/20\n",
      "* Epoch 20/20\n"
     ]
    }
   ],
   "source": [
    "data_train, data_val, data_test = create_dataloader(X, Y, 10)\n",
    "max_epochs = 20\n",
    "unet = UNet()\n",
    "optimizer = optim.Adam(unet.parameters(), lr=0.0001)\n",
    "unet_train_loss, unet_eval_loss, unet_iou_score = train(unet, optimizer,\n",
    "                                                                       dice_loss, max_epochs, data_train, data_val)\n",
    "\n",
    "train_results = pd.read_csv(\"train_results.csv\")\n",
    "train_results[\"unet_train_loss\"] = unet_train_loss\n",
    "train_results[\"unet_eval_loss\"] = unet_eval_loss\n",
    "train_results[\"unet_iou_score\"] = unet_iou_score\n",
    "train_results.to_csv(\"train_results.csv\")"
   ]
  },
  {
   "cell_type": "code",
   "execution_count": 15,
   "metadata": {
    "colab": {
     "base_uri": "https://localhost:8080/",
     "height": 295
    },
    "id": "_iJHfti5TCks",
    "outputId": "4733ce31-da38-4497-979f-70171f304159"
   },
   "outputs": [
    {
     "data": {
      "text/plain": "<Figure size 1080x288 with 1 Axes>",
      "image/png": "[encoded data removed]"
     },
     "metadata": {
      "needs_background": "light"
     },
     "output_type": "display_data"
    }
   ],
   "source": [
    "plt.title(\"Unet Dice loss:\")\n",
    "plt.plot(unet_train_loss, label=\"train_loss\", marker=\".\")\n",
    "plt.plot(unet_eval_loss, label=\"eval_loss\", marker=\".\")\n",
    "plt.xlabel(\"Epoch\")\n",
    "plt.ylabel(\"Loss\")\n",
    "plt.grid()\n",
    "plt.legend()\n",
    "plt.show()"
   ]
  },
  {
   "cell_type": "code",
   "execution_count": 31,
   "metadata": {
    "colab": {
     "base_uri": "https://localhost:8080/"
    },
    "id": "tzfUP2QETCks",
    "outputId": "99fdc0c5-d822-4aae-b3b7-cca211bb3bf7"
   },
   "outputs": [
    {
     "name": "stdout",
     "output_type": "stream",
     "text": [
      "Unet IoU score:  0.875523054599762\n"
     ]
    }
   ],
   "source": [
    "unet_test_score = score_model(unet, iou_pytorch, data_test)\n",
    "scores_results = pd.read_csv(\"scores_results.csv\")\n",
    "scores_results[\"unet_test_score\"] = [unet_test_score]\n",
    "scores_results.to_csv(\"scores_results.csv\")\n",
    "print(\"Unet IoU score: \", unet_test_score)"
   ]
  },
  {
   "cell_type": "code",
   "execution_count": 32,
   "outputs": [
    {
     "name": "stdout",
     "output_type": "stream",
     "text": [
      "Unet Dice score:  0.9316155433654785\n"
     ]
    }
   ],
   "source": [
    "unet_test_dice_score = 1 - score_model(unet, dice_loss, data_test)\n",
    "\n",
    "scores_results = pd.read_csv(\"scores_results.csv\")\n",
    "scores_results[\"unet2_test_dice_score\"] = [unet_test_dice_score]\n",
    "scores_results.to_csv(\"scores_results.csv\")\n",
    "print(\"Unet Dice score: \", unet_test_dice_score)"
   ],
   "metadata": {
    "collapsed": false
   }
  },
  {
   "cell_type": "code",
   "execution_count": 17,
   "metadata": {
    "id": "7FCgUrRNTbth"
   },
   "outputs": [],
   "source": [
    "class UNet2(nn.Module):\n",
    "    def __init__(self):\n",
    "        super().__init__()\n",
    "        self.enc_conv0 = nn.Sequential(\n",
    "            nn.Conv2d(in_channels=3, out_channels=64, kernel_size=3, padding=1),\n",
    "            nn.ReLU(inplace=True),\n",
    "            nn.BatchNorm2d(64),\n",
    "            nn.Conv2d(in_channels=64, out_channels=128, kernel_size=3, padding=1),\n",
    "            nn.ReLU(inplace=True),\n",
    "            nn.BatchNorm2d(128),\n",
    "        )\n",
    "        self.pool0 = nn.Conv2d(in_channels=128, out_channels=128, kernel_size=1, stride=2)\n",
    "        \n",
    "        self.enc_conv1 = nn.Sequential(\n",
    "            nn.Conv2d(in_channels=128, out_channels=128, kernel_size=3, padding=1),\n",
    "            nn.ReLU(inplace=True),\n",
    "            nn.BatchNorm2d(128),\n",
    "            nn.Conv2d(in_channels=128, out_channels=256, kernel_size=3, padding=1),\n",
    "            nn.ReLU(inplace=True),\n",
    "            nn.BatchNorm2d(256),\n",
    "        )\n",
    "        self.pool1 = nn.Conv2d(in_channels=256, out_channels=256, kernel_size=1, stride=2)\n",
    "        \n",
    "        self.enc_conv2 = nn.Sequential(\n",
    "            nn.Conv2d(in_channels=256, out_channels=256, kernel_size=3, padding=1),\n",
    "            nn.ReLU(inplace=True),\n",
    "            nn.BatchNorm2d(256),\n",
    "            nn.Conv2d(in_channels=256, out_channels=512, kernel_size=3, padding=1),\n",
    "            nn.ReLU(inplace=True),\n",
    "            nn.BatchNorm2d(512),\n",
    "        )\n",
    "        self.pool2 = nn.Conv2d(in_channels=512, out_channels=512, kernel_size=1, stride=2)\n",
    "        \n",
    "        self.enc_conv3 = nn.Sequential(\n",
    "            nn.Conv2d(in_channels=512, out_channels=512, kernel_size=3, padding=1),\n",
    "            nn.ReLU(inplace=True),\n",
    "            nn.BatchNorm2d(512),\n",
    "            nn.Conv2d(in_channels=512, out_channels=1024, kernel_size=3, padding=1),\n",
    "            nn.ReLU(inplace=True),\n",
    "            nn.BatchNorm2d(1024),\n",
    "        )\n",
    "        self.pool3 = nn.Conv2d(in_channels=1024, out_channels=1024, kernel_size=1, stride=2)\n",
    "\n",
    "        self.bottleneck_conv = nn.Sequential(\n",
    "            nn.Conv2d(in_channels=1024, out_channels=1024, kernel_size=3, padding=1),\n",
    "            nn.ReLU(inplace=True),\n",
    "            nn.BatchNorm2d(1024),\n",
    "            nn.Conv2d(in_channels=1024, out_channels=1024, kernel_size=3, padding=1),\n",
    "            nn.ReLU(inplace=True),\n",
    "            nn.BatchNorm2d(1024),\n",
    "        )\n",
    "\n",
    "        self.upsample0 = nn.ConvTranspose2d(in_channels=1024, out_channels=1024, kernel_size=2, stride=2)\n",
    "        self.dec_conv0 = nn.Sequential(\n",
    "            nn.ConvTranspose2d(in_channels=1024, out_channels=512, kernel_size=3, padding=1),\n",
    "            nn.ReLU(inplace=True),\n",
    "            nn.BatchNorm2d(512),\n",
    "            nn.ConvTranspose2d(in_channels=512, out_channels=512, kernel_size=3, padding=1),\n",
    "            nn.ReLU(inplace=True),\n",
    "            nn.BatchNorm2d(512),\n",
    "        )\n",
    "        \n",
    "        self.upsample1 = nn.ConvTranspose2d(in_channels=512, out_channels=512, kernel_size=2, stride=2)\n",
    "        self.dec_conv1 = nn.Sequential(\n",
    "            nn.ConvTranspose2d(in_channels=512, out_channels=256, kernel_size=3, padding=1),\n",
    "            nn.ReLU(inplace=True),\n",
    "            nn.BatchNorm2d(256),\n",
    "            nn.ConvTranspose2d(in_channels=256, out_channels=256, kernel_size=3, padding=1),\n",
    "            nn.ReLU(inplace=True),\n",
    "            nn.BatchNorm2d(256),\n",
    "        )\n",
    "        \n",
    "        self.upsample2 = nn.ConvTranspose2d(in_channels=256, out_channels=256, kernel_size=2, stride=2)\n",
    "        self.dec_conv2 = nn.Sequential(\n",
    "            nn.ConvTranspose2d(in_channels=256, out_channels=128, kernel_size=3, padding=1),\n",
    "            nn.ReLU(inplace=True),\n",
    "            nn.BatchNorm2d(128),\n",
    "            nn.ConvTranspose2d(in_channels=128, out_channels=128, kernel_size=3, padding=1),\n",
    "            nn.ReLU(inplace=True),\n",
    "            nn.BatchNorm2d(128),\n",
    "        )\n",
    "        \n",
    "        self.upsample3 = nn.ConvTranspose2d(in_channels=128, out_channels=128, kernel_size=2, stride=2)\n",
    "        self.dec_conv3 = nn.Sequential(\n",
    "            nn.ConvTranspose2d(in_channels=128, out_channels=64, kernel_size=3, padding=1),\n",
    "            nn.ReLU(inplace=True),\n",
    "            nn.BatchNorm2d(64),\n",
    "            nn.ConvTranspose2d(in_channels=64, out_channels=64, kernel_size=3, padding=1),\n",
    "            nn.ReLU(inplace=True),\n",
    "            nn.BatchNorm2d(64),\n",
    "            nn.ConvTranspose2d(in_channels=64, out_channels=1, kernel_size=1),\n",
    "        )\n",
    "\n",
    "    def forward(self, x):\n",
    "        enc0 = self.enc_conv0(x)\n",
    "        pool0 = self.pool0(enc0)\n",
    "        enc1 = self.enc_conv1(pool0)\n",
    "        pool1 = self.pool1(enc1)\n",
    "        enc2 = self.enc_conv2(pool1)\n",
    "        pool2 = self.pool2(enc2)\n",
    "        enc3 = self.enc_conv3(pool2)\n",
    "        pool3 = self.pool3(enc3)\n",
    "\n",
    "        btnck = self.bottleneck_conv(pool3)\n",
    "\n",
    "        upsamp0 = self.upsample0(btnck)\n",
    "        dec0 = self.dec_conv0(upsamp0 + enc3)\n",
    "        upsamp1 = self.upsample1(dec0)\n",
    "        dec1 = self.dec_conv1(upsamp1 + enc2)\n",
    "        upsamp2 = self.upsample2(dec1)\n",
    "        dec2 = self.dec_conv2(upsamp2 + enc1)\n",
    "        upsamp3 = self.upsample3(dec2)\n",
    "        dec3 = self.dec_conv3(upsamp3 + enc0)\n",
    "\n",
    "        return dec3"
   ]
  },
  {
   "cell_type": "code",
   "execution_count": 18,
   "metadata": {
    "colab": {
     "base_uri": "https://localhost:8080/",
     "height": 277
    },
    "id": "XcAcolldTCku",
    "outputId": "ab823723-82ab-4f34-cdfd-86498cfc1317"
   },
   "outputs": [
    {
     "name": "stdout",
     "output_type": "stream",
     "text": [
      "* Epoch 1/20\n",
      "* Epoch 2/20\n",
      "* Epoch 3/20\n",
      "* Epoch 4/20\n",
      "* Epoch 5/20\n",
      "* Epoch 6/20\n",
      "* Epoch 7/20\n",
      "* Epoch 8/20\n",
      "* Epoch 9/20\n",
      "* Epoch 10/20\n",
      "* Epoch 11/20\n",
      "* Epoch 12/20\n",
      "* Epoch 13/20\n",
      "* Epoch 14/20\n",
      "* Epoch 15/20\n",
      "* Epoch 16/20\n",
      "* Epoch 17/20\n",
      "* Epoch 18/20\n",
      "* Epoch 19/20\n",
      "* Epoch 20/20\n"
     ]
    }
   ],
   "source": [
    "data_train, data_val, data_test = create_dataloader(X, Y, 10)\n",
    "unet2 = UNet2()\n",
    "max_epochs = 20\n",
    "optimizer = optim.Adam(unet2.parameters(), lr=0.0001)\n",
    "unet2_train_loss, unet2_eval_loss, unet2_iou_score = train(unet2, optimizer,\n",
    "                                                  dice_loss, max_epochs, data_train, data_val)\n",
    "\n",
    "train_results = pd.read_csv(\"train_results.csv\")\n",
    "train_results[\"unet2_train_loss\"] = unet2_train_loss\n",
    "train_results[\"unet2_eval_loss\"] = unet2_eval_loss\n",
    "train_results[\"unet2_iou_score\"] = unet2_iou_score\n",
    "train_results.to_csv(\"train_results.csv\")"
   ]
  },
  {
   "cell_type": "code",
   "execution_count": 13,
   "metadata": {
    "colab": {
     "base_uri": "https://localhost:8080/",
     "height": 295
    },
    "id": "ZcGrwyT5TCku",
    "outputId": "37f5bb39-f4fd-494f-8a97-d62c1c95d162",
    "scrolled": true
   },
   "outputs": [
    {
     "data": {
      "text/plain": "<Figure size 432x288 with 1 Axes>",
      "image/png": "[encoded data removed]"
     },
     "metadata": {
      "needs_background": "light"
     },
     "output_type": "display_data"
    }
   ],
   "source": [
    "plt.title(\"Unet2 Dice loss:\")\n",
    "plt.plot(unet2_train_loss, label=\"train_loss\", marker=\".\")\n",
    "plt.plot(unet2_eval_loss, label=\"eval_loss\", marker=\".\")\n",
    "plt.xlabel(\"Epoch\")\n",
    "plt.ylabel(\"Loss\")\n",
    "plt.grid()\n",
    "plt.legend()\n",
    "plt.show()"
   ]
  },
  {
   "cell_type": "code",
   "execution_count": 28,
   "metadata": {
    "colab": {
     "base_uri": "https://localhost:8080/"
    },
    "id": "pmWjPSXJTCku",
    "outputId": "9ead6491-541c-4ee4-cacd-c5ed523de5b1"
   },
   "outputs": [
    {
     "name": "stdout",
     "output_type": "stream",
     "text": [
      "Unet2 IoU score:  0.8322235465049743\n"
     ]
    }
   ],
   "source": [
    "unet2_test_score = score_model(unet2, iou_pytorch, data_test)\n",
    "\n",
    "scores_results = pd.read_csv(\"scores_results.csv\")\n",
    "scores_results[\"unet2_test_score\"] = [unet2_test_score]\n",
    "scores_results.to_csv(\"scores_results.csv\")\n",
    "print(\"Unet2 IoU score: \", unet2_test_score)"
   ]
  },
  {
   "cell_type": "code",
   "execution_count": 30,
   "outputs": [
    {
     "name": "stdout",
     "output_type": "stream",
     "text": [
      "Unet2 Dice score:  0.9096129536628723\n"
     ]
    }
   ],
   "source": [
    "unet2_test_dice_score = 1 - score_model(unet2, dice_loss, data_test)\n",
    "\n",
    "scores_results = pd.read_csv(\"scores_results.csv\")\n",
    "scores_results[\"unet2_test_dice_score\"] = [unet2_test_dice_score]\n",
    "scores_results.to_csv(\"scores_results.csv\")\n",
    "print(\"Unet2 Dice score: \", unet2_test_dice_score)"
   ],
   "metadata": {
    "collapsed": false
   }
  },
  {
   "cell_type": "code",
   "execution_count": 13,
   "outputs": [],
   "source": [
    "class UNet3(nn.Module):\n",
    "    def __init__(self):\n",
    "        super().__init__()\n",
    "        self.enc_conv0 = nn.Sequential(\n",
    "            nn.Conv2d(in_channels=3, out_channels=64, kernel_size=3, padding=1),\n",
    "            nn.ReLU(inplace=True),\n",
    "            nn.BatchNorm2d(64),\n",
    "            nn.Conv2d(in_channels=64, out_channels=128, kernel_size=3, padding=1),\n",
    "            nn.ReLU(inplace=True),\n",
    "            nn.BatchNorm2d(128),\n",
    "        )\n",
    "        self.pool0 = nn.MaxPool2d(kernel_size=2)\n",
    "\n",
    "        self.enc_conv1 = nn.Sequential(\n",
    "            nn.Conv2d(in_channels=128, out_channels=128, kernel_size=3, padding=1),\n",
    "            nn.ReLU(inplace=True),\n",
    "            nn.BatchNorm2d(128),\n",
    "            nn.Conv2d(in_channels=128, out_channels=256, kernel_size=3, padding=1),\n",
    "            nn.ReLU(inplace=True),\n",
    "            nn.BatchNorm2d(256),\n",
    "        )\n",
    "        self.pool1 = nn.MaxPool2d(kernel_size=2)\n",
    "\n",
    "        self.enc_conv2 = nn.Sequential(\n",
    "            nn.Conv2d(in_channels=256, out_channels=256, kernel_size=3, padding=1),\n",
    "            nn.ReLU(inplace=True),\n",
    "            nn.BatchNorm2d(256),\n",
    "            nn.Conv2d(in_channels=256, out_channels=512, kernel_size=3, padding=1),\n",
    "            nn.ReLU(inplace=True),\n",
    "            nn.BatchNorm2d(512),\n",
    "        )\n",
    "        self.pool2 = nn.MaxPool2d(kernel_size=2)\n",
    "\n",
    "        self.enc_conv3 = nn.Sequential(\n",
    "            nn.Conv2d(in_channels=512, out_channels=512, kernel_size=3, padding=1),\n",
    "            nn.ReLU(inplace=True),\n",
    "            nn.BatchNorm2d(512),\n",
    "            nn.Conv2d(in_channels=512, out_channels=1024, kernel_size=3, padding=1),\n",
    "            nn.ReLU(inplace=True),\n",
    "            nn.BatchNorm2d(1024),\n",
    "        )\n",
    "        self.pool3 = nn.MaxPool2d(kernel_size=2)\n",
    "\n",
    "        self.enc_conv4 = nn.Sequential(\n",
    "            nn.Conv2d(in_channels=1024, out_channels=1024, kernel_size=3, padding=1),\n",
    "            nn.ReLU(inplace=True),\n",
    "            nn.BatchNorm2d(1024),\n",
    "            nn.Conv2d(in_channels=1024, out_channels=2048, kernel_size=3, padding=1),\n",
    "            nn.ReLU(inplace=True),\n",
    "            nn.BatchNorm2d(2048),\n",
    "        )\n",
    "        self.pool4 = nn.MaxPool2d(kernel_size=2)\n",
    "\n",
    "\n",
    "        self.bottleneck_conv = nn.Sequential(\n",
    "            nn.Conv2d(in_channels=2048, out_channels=2048, kernel_size=1),\n",
    "            nn.ReLU(inplace=True),\n",
    "            nn.BatchNorm2d(2048),\n",
    "            nn.Conv2d(in_channels=2048, out_channels=2048, kernel_size=1),\n",
    "            nn.ReLU(inplace=True),\n",
    "            nn.BatchNorm2d(2048),\n",
    "        )\n",
    "\n",
    "        self.upsample0 = nn.Upsample(scale_factor=2)\n",
    "        self.dec_conv0 = nn.Sequential(\n",
    "            nn.Conv2d(in_channels=2048, out_channels=1024, kernel_size=3, padding=1),\n",
    "            nn.ReLU(inplace=True),\n",
    "            nn.BatchNorm2d(1024),\n",
    "            nn.Conv2d(in_channels=1024, out_channels=1024, kernel_size=3, padding=1),\n",
    "            nn.ReLU(inplace=True),\n",
    "            nn.BatchNorm2d(1024),\n",
    "        )\n",
    "\n",
    "        self.upsample1 = nn.Upsample(scale_factor=2)\n",
    "        self.dec_conv1 = nn.Sequential(\n",
    "            nn.Conv2d(in_channels=1024, out_channels=512, kernel_size=3, padding=1),\n",
    "            nn.ReLU(inplace=True),\n",
    "            nn.BatchNorm2d(512),\n",
    "            nn.Conv2d(in_channels=512, out_channels=512, kernel_size=3, padding=1),\n",
    "            nn.ReLU(inplace=True),\n",
    "            nn.BatchNorm2d(512),\n",
    "        )\n",
    "\n",
    "        self.upsample2 = nn.Upsample(scale_factor=2)\n",
    "        self.dec_conv2 = nn.Sequential(\n",
    "            nn.ConvTranspose2d(in_channels=512, out_channels=256, kernel_size=3, padding=1),\n",
    "            nn.ReLU(inplace=True),\n",
    "            nn.BatchNorm2d(256),\n",
    "            nn.ConvTranspose2d(in_channels=256, out_channels=256, kernel_size=3, padding=1),\n",
    "            nn.ReLU(inplace=True),\n",
    "            nn.BatchNorm2d(256),\n",
    "        )\n",
    "\n",
    "        self.upsample3 = nn.Upsample(scale_factor=2)\n",
    "        self.dec_conv3 = nn.Sequential(\n",
    "            nn.ConvTranspose2d(in_channels=256, out_channels=128, kernel_size=3, padding=1),\n",
    "            nn.ReLU(inplace=True),\n",
    "            nn.BatchNorm2d(128),\n",
    "            nn.ConvTranspose2d(in_channels=128, out_channels=128, kernel_size=3, padding=1),\n",
    "            nn.ReLU(inplace=True),\n",
    "            nn.BatchNorm2d(128),\n",
    "        )\n",
    "\n",
    "        self.upsample4 = nn.Upsample(scale_factor=2)\n",
    "        self.dec_conv4 = nn.Sequential(\n",
    "            nn.ConvTranspose2d(in_channels=128, out_channels=64, kernel_size=3, padding=1),\n",
    "            nn.ReLU(inplace=True),\n",
    "            nn.BatchNorm2d(64),\n",
    "            nn.ConvTranspose2d(in_channels=64, out_channels=64, kernel_size=3, padding=1),\n",
    "            nn.ReLU(inplace=True),\n",
    "            nn.BatchNorm2d(64),\n",
    "            nn.ConvTranspose2d(in_channels=64, out_channels=1, kernel_size=1),\n",
    "        )\n",
    "\n",
    "    def forward(self, x):\n",
    "        enc0 = self.enc_conv0(x)\n",
    "        pool0 = self.pool0(enc0)\n",
    "        enc1 = self.enc_conv1(pool0)\n",
    "        pool1 = self.pool1(enc1)\n",
    "        enc2 = self.enc_conv2(pool1)\n",
    "        pool2 = self.pool2(enc2)\n",
    "        enc3 = self.enc_conv3(pool2)\n",
    "        pool3 = self.pool3(enc3)\n",
    "        enc4 = self.enc_conv4(pool3)\n",
    "        pool4 = self.pool4(enc4)\n",
    "\n",
    "        btnck = self.bottleneck_conv(pool4)\n",
    "\n",
    "        upsamp0 = self.upsample0(btnck)\n",
    "        dec0 = self.dec_conv0(upsamp0 + enc4)\n",
    "        upsamp1 = self.upsample1(dec0)\n",
    "        dec1 = self.dec_conv1(upsamp1 + enc3)\n",
    "        upsamp2 = self.upsample2(dec1)\n",
    "        dec2 = self.dec_conv2(upsamp2 + enc2)\n",
    "        upsamp3 = self.upsample3(dec2)\n",
    "        dec3 = self.dec_conv3(upsamp3 + enc1)\n",
    "        upsamp4 = self.upsample4(dec3)\n",
    "        dec4 = self.dec_conv4(upsamp4 + enc0)\n",
    "\n",
    "        return dec4"
   ],
   "metadata": {
    "collapsed": false
   }
  },
  {
   "cell_type": "code",
   "execution_count": 14,
   "outputs": [
    {
     "name": "stdout",
     "output_type": "stream",
     "text": [
      "* Epoch 1/20\n",
      "* Epoch 2/20\n",
      "* Epoch 3/20\n",
      "* Epoch 4/20\n",
      "* Epoch 5/20\n",
      "* Epoch 6/20\n",
      "* Epoch 7/20\n",
      "* Epoch 8/20\n",
      "* Epoch 9/20\n",
      "* Epoch 10/20\n",
      "* Epoch 11/20\n",
      "* Epoch 12/20\n",
      "* Epoch 13/20\n",
      "* Epoch 14/20\n",
      "* Epoch 15/20\n",
      "* Epoch 16/20\n",
      "* Epoch 17/20\n",
      "* Epoch 18/20\n",
      "* Epoch 19/20\n",
      "* Epoch 20/20\n"
     ]
    }
   ],
   "source": [
    "data_train, data_val, data_test = create_dataloader(X, Y, 10)\n",
    "unet3 = UNet3()\n",
    "max_epochs = 20\n",
    "optimizer = optim.Adam(unet3.parameters(), lr=0.0001)\n",
    "unet3_train_loss, unet3_eval_loss, unet3_iou_score = train(unet3, optimizer,\n",
    "                                                  dice_loss, max_epochs, data_train, data_val)\n",
    "\n",
    "train_results = pd.read_csv(\"train_results.csv\")\n",
    "train_results[\"unet3_train_loss\"] = unet3_train_loss\n",
    "train_results[\"unet3_eval_loss\"] = unet3_eval_loss\n",
    "train_results[\"unet3_iou_score\"] = unet3_iou_score\n",
    "train_results.to_csv(\"train_results.csv\")"
   ],
   "metadata": {
    "collapsed": false
   }
  },
  {
   "cell_type": "code",
   "execution_count": 12,
   "outputs": [
    {
     "data": {
      "text/plain": "<Figure size 432x288 with 1 Axes>",
      "image/png": "[encoded data removed]"
     },
     "metadata": {
      "needs_background": "light"
     },
     "output_type": "display_data"
    }
   ],
   "source": [
    "plt.title(\"Unet3 Dice loss:\")\n",
    "plt.plot(unet3_train_loss, label=\"train_loss\", marker=\".\")\n",
    "plt.plot(unet3_eval_loss, label=\"eval_loss\", marker=\".\")\n",
    "plt.xlabel(\"Epoch\")\n",
    "plt.ylabel(\"Loss\")\n",
    "plt.grid()\n",
    "plt.legend()\n",
    "plt.show()"
   ],
   "metadata": {
    "collapsed": false
   }
  },
  {
   "cell_type": "code",
   "execution_count": 16,
   "outputs": [
    {
     "name": "stdout",
     "output_type": "stream",
     "text": [
      "Unet3 IoU score:  0.8313583374023438\n"
     ]
    }
   ],
   "source": [
    "unet3_test_score = score_model(unet3, iou_pytorch, data_test)\n",
    "scores_results = pd.read_csv(\"scores_results.csv\")\n",
    "scores_results[\"unet3_test_score\"] = [unet3_test_score]\n",
    "scores_results.to_csv(\"scores_results.csv\")\n",
    "print(\"Unet3 IoU score: \", unet3_test_score)"
   ],
   "metadata": {
    "collapsed": false
   }
  },
  {
   "cell_type": "code",
   "execution_count": 17,
   "outputs": [
    {
     "name": "stdout",
     "output_type": "stream",
     "text": [
      "Unet3 Dice score:  0.8775076389312744\n"
     ]
    }
   ],
   "source": [
    "unet3_test_dice_score = 1 - score_model(unet3, dice_loss, data_test)\n",
    "scores_results = pd.read_csv(\"scores_results.csv\")\n",
    "scores_results[\"unet3_test_dice_score\"] = [unet3_test_dice_score]\n",
    "scores_results.to_csv(\"scores_results.csv\")\n",
    "print(\"Unet3 Dice score: \", unet3_test_dice_score)"
   ],
   "metadata": {
    "collapsed": false
   }
  },
  {
   "cell_type": "code",
   "execution_count": 3,
   "metadata": {
    "id": "OdMBgz2fTCkv"
   },
   "outputs": [],
   "source": [
    "train_results = pd.read_csv(\"train_results.csv\")"
   ]
  },
  {
   "cell_type": "code",
   "execution_count": 11,
   "metadata": {
    "colab": {
     "base_uri": "https://localhost:8080/",
     "height": 295
    },
    "id": "4ZxtnTZ5f9vk",
    "outputId": "2df1ea61-7b2a-450a-b56f-2dbda09a0fe2",
    "scrolled": false
   },
   "outputs": [
    {
     "data": {
      "text/plain": "<Figure size 432x288 with 1 Axes>",
      "image/png": "[encoded data removed]"
     },
     "metadata": {
      "needs_background": "light"
     },
     "output_type": "display_data"
    }
   ],
   "source": [
    "unet_train_loss = train_results[\"unet_train_loss\"]\n",
    "unet2_train_loss = train_results[\"unet2_train_loss\"]\n",
    "unet3_train_loss = train_results[\"unet3_train_loss\"]\n",
    "\n",
    "train_losses = {\n",
    "                \"unet_train_loss\" : unet_train_loss,\n",
    "                \"unet2_train_loss\" : unet2_train_loss,\n",
    "                \"unet3_train_loss\" : unet3_train_loss,\n",
    "               }\n",
    "\n",
    "for key, val in train_losses.items():\n",
    "    plt.plot(val, label=key, marker=\".\")\n",
    "\n",
    "plt.title(\"Model train loss comparison:\")\n",
    "plt.legend(bbox_to_anchor=(1.05, 1), loc='upper left')    \n",
    "plt.grid()\n",
    "plt.xlabel(\"Epoch\")\n",
    "plt.ylabel(\"Loss\")\n",
    "plt.show()"
   ]
  },
  {
   "cell_type": "code",
   "execution_count": 6,
   "outputs": [
    {
     "data": {
      "text/plain": "<Figure size 432x288 with 1 Axes>",
      "image/png": "[encoded data removed]"
     },
     "metadata": {
      "needs_background": "light"
     },
     "output_type": "display_data"
    }
   ],
   "source": [
    "unet_eval_loss = train_results[\"unet_eval_loss\"]\n",
    "unet2_eval_loss = train_results[\"unet2_eval_loss\"]\n",
    "unet3_eval_loss = train_results[\"unet3_eval_loss\"]\n",
    "\n",
    "train_losses = {\n",
    "                \"unet_eval_loss\" : unet_eval_loss,\n",
    "                \"unet2_eval_loss\" : unet2_eval_loss,\n",
    "                \"unet3_eval_loss\" : unet3_eval_loss,\n",
    "               }\n",
    "\n",
    "for key, val in train_losses.items():\n",
    "    plt.plot(val, label=key, marker=\".\")\n",
    "\n",
    "plt.title(\"Model train loss comparison:\")\n",
    "plt.legend(bbox_to_anchor=(1.05, 1), loc='upper left')\n",
    "plt.grid()\n",
    "plt.xlabel(\"Epoch\")\n",
    "plt.ylabel(\"Loss\")\n",
    "plt.show()"
   ],
   "metadata": {
    "collapsed": false
   }
  },
  {
   "cell_type": "code",
   "execution_count": 4,
   "outputs": [
    {
     "data": {
      "text/plain": "<Figure size 432x288 with 1 Axes>",
      "image/png": "[encoded data removed]"
     },
     "metadata": {
      "needs_background": "light"
     },
     "output_type": "display_data"
    }
   ],
   "source": [
    "unet_iou_score = train_results[\"unet_iou_score\"]\n",
    "unet2_iou_score = train_results[\"unet2_iou_score\"]\n",
    "unet3_iou_score = train_results[\"unet3_iou_score\"]\n",
    "\n",
    "train_losses = {\n",
    "                \"unet_iou_score\" : unet_iou_score,\n",
    "                \"unet2_iou_score\" : unet2_iou_score,\n",
    "                \"unet3_iou_score\" : unet3_iou_score,\n",
    "               }\n",
    "\n",
    "for key, val in train_losses.items():\n",
    "    plt.plot(val, label=key, marker=\".\")\n",
    "\n",
    "plt.title(\"Model IoU score comparison:\")\n",
    "plt.legend(bbox_to_anchor=(1.05, 1), loc='upper left')\n",
    "plt.grid()\n",
    "plt.xlabel(\"Epoch\")\n",
    "plt.ylabel(\"IoU score\")\n",
    "plt.show()"
   ],
   "metadata": {
    "collapsed": false
   }
  },
  {
   "cell_type": "code",
   "execution_count": null,
   "outputs": [],
   "source": [],
   "metadata": {
    "collapsed": false
   }
  }
 ],
 "metadata": {
  "accelerator": "GPU",
  "colab": {
   "collapsed_sections": [],
   "name": "PH2_semantic_segmentation.ipynb",
   "provenance": []
  },
  "kernelspec": {
   "display_name": "Python 3",
   "language": "python",
   "name": "python3"
  },
  "language_info": {
   "codemirror_mode": {
    "name": "ipython",
    "version": 3
   },
   "file_extension": ".py",
   "mimetype": "text/x-python",
   "name": "python",
   "nbconvert_exporter": "python",
   "pygments_lexer": "ipython3",
   "version": "3.7.10"
  }
 },
 "nbformat": 4,
 "nbformat_minor": 1
}
